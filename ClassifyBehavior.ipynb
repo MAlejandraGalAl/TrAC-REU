{
 "cells": [
  {
   "cell_type": "code",
   "execution_count": 2,
   "id": "b39af29a-b07b-4128-b94a-737bbb8f4535",
   "metadata": {
    "scrolled": true
   },
   "outputs": [],
   "source": [
    "import os\n",
    "import pandas as pd\n",
    "from PIL import Image\n",
    "from tqdm import tqdm\n",
    "import torch\n",
    "from torch.utils.data import Dataset, DataLoader\n",
    "from torchvision import transforms, datasets\n",
    "from torchvision.models import resnet18 # Puedes probar con otros modelos como efficientnet_b0\n",
    "import torch.nn as nn\n",
    "import torch.optim as optim\n",
    "from sklearn.model_selection import train_test_split\n",
    "from sklearn.preprocessing import LabelEncoder\n",
    "from sklearn.metrics import accuracy_score, classification_report, confusion_matrix\n",
    "import numpy as np\n",
    "import matplotlib.pyplot as plt\n",
    "import seaborn as sns\n",
    "from torch.utils.data import DataLoader, Subset"
   ]
  },
  {
   "cell_type": "code",
   "execution_count": 3,
   "id": "48b5f89b-814a-4c6d-ad26-15563339c3e9",
   "metadata": {},
   "outputs": [],
   "source": [
    "## Configuring Routes and Parameters"
   ]
  },
  {
   "cell_type": "code",
   "execution_count": 4,
   "id": "eaff5a9d-295f-4659-a9af-249c3940351c",
   "metadata": {},
   "outputs": [
    {
     "name": "stdout",
     "output_type": "stream",
     "text": [
      " Using device: cuda\n"
     ]
    }
   ],
   "source": [
    "\n",
    "# --- Path Configuration --- #\n",
    "PATH_TO_VISUAL_DATA = \"C:\\\\Users\\\\mgalicia\\\\CowsProyect\\\\visual_data\\\\visual_data\"      \n",
    "PATH_TO_CROPPED_BBOXES_ROOT = r\"~/Downloads/cropped_bboxes\"\n",
    "PATH_TO_BEHAVIORS = os.path.join(PATH_TO_CROPPED_BBOXES_ROOT, 'behaviors')\n",
    "\n",
    "# --- Step 2: Define Class Mapping --- #\n",
    "# This mapping connects folder names to behavior labels.\n",
    "behavior_mapping = {\n",
    "    '1': 'Walking',\n",
    "    '2': 'Standing',\n",
    "    '3': 'Feeding head up',\n",
    "    '4': 'Feeding head down',\n",
    "    '5': 'Licking',\n",
    "    '6': 'Drinking',\n",
    "    '7': 'Lying'\n",
    "}\n",
    "\n",
    "# --- Training Parameters --- #\n",
    "BATCH_SIZE = 32            # Can reduce to 16 if memory is limited\n",
    "NUM_EPOCHS = 10            # Initial setting, can increase later\n",
    "LEARNING_RATE = 0.001      # Typical learning rate\n",
    "IMAGE_SIZE = (224, 224)    # Standard input size for pre-trained models like ResNet\n",
    "\n",
    "# --- Device Configuration --- #\n",
    "device = torch.device(\"cuda\" if torch.cuda.is_available() else \"cpu\")\n",
    "print(f\" Using device: {device}\")\n"
   ]
  },
  {
   "cell_type": "code",
   "execution_count": 5,
   "id": "7b5078b5-801e-4286-bd9d-a464bd1ae6a4",
   "metadata": {},
   "outputs": [
    {
     "name": "stdout",
     "output_type": "stream",
     "text": [
      "Loading dataset from: ~/Downloads/cropped_bboxes/behaviors\n",
      " Detected behavior folders (numbers): ['1', '2', '3', '4', '5', '6', '7']\n",
      " Mapped behavior labels: ['Walking', 'Standing', 'Feeding head up', 'Feeding head down', 'Licking', 'Drinking', 'Lying']\n",
      " Total number of images: 213686\n"
     ]
    }
   ],
   "source": [
    "\n",
    "# --- Step 3: Load Dataset using ImageFolder --- #\n",
    "print(f\"Loading dataset from: {PATH_TO_BEHAVIORS}\")\n",
    "\n",
    "try:\n",
    "    # Load the dataset without transformations for now\n",
    "    full_dataset = datasets.ImageFolder(root=PATH_TO_BEHAVIORS, transform=None)\n",
    "except Exception as e:\n",
    "    print(f\"ERROR: Could not load dataset from {PATH_TO_BEHAVIORS}. Please check the path and folder structure.\")\n",
    "    print(f\"Error details: {e}\")\n",
    "    exit()\n",
    "\n",
    "# --- Step 3: Map Folder Names to Readable Behavior Labels --- #\n",
    "# ImageFolder assigns class indices based on folder names (alphabetically).\n",
    "# We need to map those indices to readable behavior names.\n",
    "\n",
    "# Folder names as detected by ImageFolder (should be: ['1', '2', '3', '4', '5', '6', '7'])\n",
    "imagefolder_class_names = [full_dataset.classes[i] for i in range(len(full_dataset.classes))]\n",
    "\n",
    "# Map class indices to readable labels using behavior_mapping\n",
    "class_names_readable = [behavior_mapping.get(c, f\"Unknown_{c}\") for c in imagefolder_class_names]\n",
    "num_classes = len(class_names_readable)\n",
    "\n",
    "# Display detected classes\n",
    "print(f\" Detected behavior folders (numbers): {imagefolder_class_names}\")\n",
    "print(f\" Mapped behavior labels: {class_names_readable}\")\n",
    "print(f\" Total number of images: {len(full_dataset)}\")\n"
   ]
  },
  {
   "cell_type": "code",
   "execution_count": 6,
   "id": "b9f5a9c8-30c4-4c49-92d6-e3274551938a",
   "metadata": {},
   "outputs": [],
   "source": [
    "\n",
    "# --- Step: Define Image Transformations --- #\n",
    "\n",
    "# Transformations for the training set (includes data augmentation)\n",
    "train_transform = transforms.Compose([\n",
    "    transforms.Resize(IMAGE_SIZE),          # Resize to 224x224\n",
    "    transforms.RandomHorizontalFlip(),      # Random flip for data augmentation\n",
    "    transforms.RandomRotation(10),          # Random rotation for augmentation\n",
    "    transforms.ToTensor(),                  # Convert image to PyTorch tensor\n",
    "    transforms.Normalize(mean=[0.485, 0.456, 0.406],  # ImageNet normalization\n",
    "                         std=[0.229, 0.224, 0.225])\n",
    "])\n",
    "\n",
    "# Transformations for validation and test sets (no augmentation)\n",
    "val_test_transform = transforms.Compose([\n",
    "    transforms.Resize(IMAGE_SIZE),\n",
    "    transforms.ToTensor(),\n",
    "    transforms.Normalize(mean=[0.485, 0.456, 0.406],\n",
    "                         std=[0.229, 0.224, 0.225])\n",
    "])\n"
   ]
  },
  {
   "cell_type": "code",
   "execution_count": 7,
   "id": "526cabc0-f38f-46f3-817b-5f2a5f5b51c0",
   "metadata": {
    "scrolled": true
   },
   "outputs": [
    {
     "name": "stdout",
     "output_type": "stream",
     "text": [
      "Training set size: 149580\n",
      "Validation set size: 32052\n",
      "Test set size: 32054\n"
     ]
    }
   ],
   "source": [
    "\n",
    "# --- Step 1: Prepare Train/Validation/Test Splits --- #\n",
    "\n",
    "# Get the class labels (targets) assigned by ImageFolder\n",
    "targets = full_dataset.targets\n",
    "\n",
    "# Calculate dataset sizes\n",
    "train_size = int(0.7 * len(full_dataset))  # 70% training\n",
    "val_size = int(0.15 * len(full_dataset))   # 15% validation\n",
    "test_size = len(full_dataset) - train_size - val_size  # Remaining for testing\n",
    "\n",
    "# First split: Train vs Test\n",
    "train_idx, test_idx, _, _ = train_test_split(\n",
    "    range(len(full_dataset)), targets, test_size=test_size, stratify=targets, random_state=42\n",
    ")\n",
    "\n",
    "# Second split: Train vs Validation\n",
    "train_idx, val_idx, _, _ = train_test_split(\n",
    "    train_idx, [targets[i] for i in train_idx], test_size=val_size / (train_size + val_size),\n",
    "    stratify=[targets[i] for i in train_idx], random_state=42\n",
    ")\n",
    "\n",
    "# --- Step 2: Create Dataset Subsets --- #\n",
    "\n",
    "# Create PyTorch subsets using the selected indices\n",
    "train_dataset = Subset(full_dataset, train_idx)\n",
    "val_dataset = Subset(full_dataset, val_idx)\n",
    "test_dataset = Subset(full_dataset, test_idx)\n",
    "\n",
    "# --- Step 3: Apply Transformations --- #\n",
    "\n",
    "# Apply transformations to each dataset\n",
    "train_dataset.dataset.transform = train_transform\n",
    "val_dataset.dataset.transform = val_test_transform\n",
    "test_dataset.dataset.transform = val_test_transform\n",
    "\n",
    "# --- Step 4: Create DataLoaders --- #\n",
    "\n",
    "# DataLoaders allow loading data in batches during training\n",
    "train_loader = DataLoader(train_dataset, batch_size=BATCH_SIZE, shuffle=True, num_workers=os.cpu_count() // 2)\n",
    "val_loader = DataLoader(val_dataset, batch_size=BATCH_SIZE, shuffle=False, num_workers=os.cpu_count() // 2)\n",
    "test_loader = DataLoader(test_dataset, batch_size=BATCH_SIZE, shuffle=False, num_workers=os.cpu_count() // 2)\n",
    "\n",
    "# --- Step 5: Quick Check --- #\n",
    "print(f\"Training set size: {len(train_dataset)}\")\n",
    "print(f\"Validation set size: {len(val_dataset)}\")\n",
    "print(f\"Test set size: {len(test_dataset)}\")\n"
   ]
  },
  {
   "cell_type": "code",
   "execution_count": 8,
   "id": "68ff20e0-9f3f-4dd1-872b-4fdfc02ccb7b",
   "metadata": {},
   "outputs": [
    {
     "name": "stdout",
     "output_type": "stream",
     "text": [
      "Downloading: \"https://download.pytorch.org/models/resnet18-f37072fd.pth\" to /home/exouser/.cache/torch/hub/checkpoints/resnet18-f37072fd.pth\n"
     ]
    },
    {
     "name": "stderr",
     "output_type": "stream",
     "text": [
      "100%|██████████| 44.7M/44.7M [00:00<00:00, 313MB/s]\n"
     ]
    },
    {
     "name": "stdout",
     "output_type": "stream",
     "text": [
      "CNN model (ResNet18) defined successfully.\n"
     ]
    }
   ],
   "source": [
    "# --- Model Definition --- #\n",
    "# Load a ResNet18 pre-trained on ImageNet\n",
    "model = resnet18(weights='IMAGENET1K_V1')\n",
    "\n",
    "# Replace the final fully connected layer to match the number of behavior classes\n",
    "num_ftrs = model.fc.in_features\n",
    "model.fc = nn.Linear(num_ftrs, num_classes)\n",
    "\n",
    "# Move the model to the selected device (GPU or CPU)\n",
    "model = model.to(device)\n",
    "\n",
    "print(\"CNN model (ResNet18) defined successfully.\")\n"
   ]
  },
  {
   "cell_type": "code",
   "execution_count": 9,
   "id": "e5c23ea0-4bde-498e-8252-5583864623fc",
   "metadata": {},
   "outputs": [
    {
     "name": "stdout",
     "output_type": "stream",
     "text": [
      "Loss function and optimizer are set.\n"
     ]
    }
   ],
   "source": [
    "# --- Loss Function --- #\n",
    "# CrossEntropyLoss is used for multi-class classification problems\n",
    "criterion = nn.CrossEntropyLoss()\n",
    "\n",
    "# --- Optimizer --- #\n",
    "# Adam optimizer is widely used and works well in most cases\n",
    "optimizer = optim.Adam(model.parameters(), lr=LEARNING_RATE)\n",
    "\n",
    "print(\"Loss function and optimizer are set.\")\n"
   ]
  },
  {
   "cell_type": "code",
   "execution_count": 10,
   "id": "dd18404b-a3d9-4b54-bdc6-b97a4cc45e1c",
   "metadata": {
    "scrolled": true
   },
   "outputs": [
    {
     "name": "stderr",
     "output_type": "stream",
     "text": [
      "Epoch 1/10 [Train]: 100%|██████████| 4675/4675 [02:02<00:00, 38.25it/s]\n"
     ]
    },
    {
     "name": "stdout",
     "output_type": "stream",
     "text": [
      "Epoch 1 - Train Loss: 0.3532, Train Accuracy: 0.8744\n"
     ]
    },
    {
     "name": "stderr",
     "output_type": "stream",
     "text": [
      "Epoch 1/10 [Validation]: 100%|██████████| 1002/1002 [00:25<00:00, 39.12it/s]\n"
     ]
    },
    {
     "name": "stdout",
     "output_type": "stream",
     "text": [
      "Epoch 1 - Validation Loss: 0.2939, Validation Accuracy: 0.8980\n",
      "✔️ Model saved: Best validation accuracy 0.8980\n"
     ]
    },
    {
     "name": "stderr",
     "output_type": "stream",
     "text": [
      "Epoch 2/10 [Train]: 100%|██████████| 4675/4675 [02:09<00:00, 36.22it/s]\n"
     ]
    },
    {
     "name": "stdout",
     "output_type": "stream",
     "text": [
      "Epoch 2 - Train Loss: 0.2591, Train Accuracy: 0.9066\n"
     ]
    },
    {
     "name": "stderr",
     "output_type": "stream",
     "text": [
      "Epoch 2/10 [Validation]: 100%|██████████| 1002/1002 [00:25<00:00, 38.79it/s]\n"
     ]
    },
    {
     "name": "stdout",
     "output_type": "stream",
     "text": [
      "Epoch 2 - Validation Loss: 0.2508, Validation Accuracy: 0.9084\n",
      "✔️ Model saved: Best validation accuracy 0.9084\n"
     ]
    },
    {
     "name": "stderr",
     "output_type": "stream",
     "text": [
      "Epoch 3/10 [Train]: 100%|██████████| 4675/4675 [02:13<00:00, 35.08it/s]\n"
     ]
    },
    {
     "name": "stdout",
     "output_type": "stream",
     "text": [
      "Epoch 3 - Train Loss: 0.2170, Train Accuracy: 0.9204\n"
     ]
    },
    {
     "name": "stderr",
     "output_type": "stream",
     "text": [
      "Epoch 3/10 [Validation]: 100%|██████████| 1002/1002 [00:27<00:00, 37.08it/s]\n"
     ]
    },
    {
     "name": "stdout",
     "output_type": "stream",
     "text": [
      "Epoch 3 - Validation Loss: 0.2274, Validation Accuracy: 0.9188\n",
      "✔️ Model saved: Best validation accuracy 0.9188\n"
     ]
    },
    {
     "name": "stderr",
     "output_type": "stream",
     "text": [
      "Epoch 4/10 [Train]: 100%|██████████| 4675/4675 [02:02<00:00, 38.13it/s]\n"
     ]
    },
    {
     "name": "stdout",
     "output_type": "stream",
     "text": [
      "Epoch 4 - Train Loss: 0.1769, Train Accuracy: 0.9336\n"
     ]
    },
    {
     "name": "stderr",
     "output_type": "stream",
     "text": [
      "Epoch 4/10 [Validation]: 100%|██████████| 1002/1002 [00:25<00:00, 39.26it/s]\n"
     ]
    },
    {
     "name": "stdout",
     "output_type": "stream",
     "text": [
      "Epoch 4 - Validation Loss: 0.2220, Validation Accuracy: 0.9219\n",
      "✔️ Model saved: Best validation accuracy 0.9219\n"
     ]
    },
    {
     "name": "stderr",
     "output_type": "stream",
     "text": [
      "Epoch 5/10 [Train]: 100%|██████████| 4675/4675 [01:58<00:00, 39.55it/s]\n"
     ]
    },
    {
     "name": "stdout",
     "output_type": "stream",
     "text": [
      "Epoch 5 - Train Loss: 0.1371, Train Accuracy: 0.9474\n"
     ]
    },
    {
     "name": "stderr",
     "output_type": "stream",
     "text": [
      "Epoch 5/10 [Validation]: 100%|██████████| 1002/1002 [00:24<00:00, 40.45it/s]\n"
     ]
    },
    {
     "name": "stdout",
     "output_type": "stream",
     "text": [
      "Epoch 5 - Validation Loss: 0.2463, Validation Accuracy: 0.9154\n"
     ]
    },
    {
     "name": "stderr",
     "output_type": "stream",
     "text": [
      "Epoch 6/10 [Train]: 100%|██████████| 4675/4675 [02:05<00:00, 37.17it/s]\n"
     ]
    },
    {
     "name": "stdout",
     "output_type": "stream",
     "text": [
      "Epoch 6 - Train Loss: 0.0961, Train Accuracy: 0.9633\n"
     ]
    },
    {
     "name": "stderr",
     "output_type": "stream",
     "text": [
      "Epoch 6/10 [Validation]: 100%|██████████| 1002/1002 [00:27<00:00, 36.22it/s]\n"
     ]
    },
    {
     "name": "stdout",
     "output_type": "stream",
     "text": [
      "Epoch 6 - Validation Loss: 0.2844, Validation Accuracy: 0.9173\n"
     ]
    },
    {
     "name": "stderr",
     "output_type": "stream",
     "text": [
      "Epoch 7/10 [Train]: 100%|██████████| 4675/4675 [02:10<00:00, 35.82it/s]\n"
     ]
    },
    {
     "name": "stdout",
     "output_type": "stream",
     "text": [
      "Epoch 7 - Train Loss: 0.0691, Train Accuracy: 0.9739\n"
     ]
    },
    {
     "name": "stderr",
     "output_type": "stream",
     "text": [
      "Epoch 7/10 [Validation]: 100%|██████████| 1002/1002 [00:26<00:00, 37.15it/s]\n"
     ]
    },
    {
     "name": "stdout",
     "output_type": "stream",
     "text": [
      "Epoch 7 - Validation Loss: 0.3001, Validation Accuracy: 0.9159\n"
     ]
    },
    {
     "name": "stderr",
     "output_type": "stream",
     "text": [
      "Epoch 8/10 [Train]: 100%|██████████| 4675/4675 [01:58<00:00, 39.45it/s]\n"
     ]
    },
    {
     "name": "stdout",
     "output_type": "stream",
     "text": [
      "Epoch 8 - Train Loss: 0.0542, Train Accuracy: 0.9798\n"
     ]
    },
    {
     "name": "stderr",
     "output_type": "stream",
     "text": [
      "Epoch 8/10 [Validation]: 100%|██████████| 1002/1002 [00:25<00:00, 39.69it/s]\n"
     ]
    },
    {
     "name": "stdout",
     "output_type": "stream",
     "text": [
      "Epoch 8 - Validation Loss: 0.3429, Validation Accuracy: 0.9162\n"
     ]
    },
    {
     "name": "stderr",
     "output_type": "stream",
     "text": [
      "Epoch 9/10 [Train]: 100%|██████████| 4675/4675 [02:09<00:00, 36.07it/s]\n"
     ]
    },
    {
     "name": "stdout",
     "output_type": "stream",
     "text": [
      "Epoch 9 - Train Loss: 0.0428, Train Accuracy: 0.9841\n"
     ]
    },
    {
     "name": "stderr",
     "output_type": "stream",
     "text": [
      "Epoch 9/10 [Validation]: 100%|██████████| 1002/1002 [00:32<00:00, 31.25it/s]\n"
     ]
    },
    {
     "name": "stdout",
     "output_type": "stream",
     "text": [
      "Epoch 9 - Validation Loss: 0.3786, Validation Accuracy: 0.9215\n"
     ]
    },
    {
     "name": "stderr",
     "output_type": "stream",
     "text": [
      "Epoch 10/10 [Train]: 100%|██████████| 4675/4675 [02:13<00:00, 34.90it/s]\n"
     ]
    },
    {
     "name": "stdout",
     "output_type": "stream",
     "text": [
      "Epoch 10 - Train Loss: 0.0371, Train Accuracy: 0.9869\n"
     ]
    },
    {
     "name": "stderr",
     "output_type": "stream",
     "text": [
      "Epoch 10/10 [Validation]: 100%|██████████| 1002/1002 [00:29<00:00, 34.40it/s]"
     ]
    },
    {
     "name": "stdout",
     "output_type": "stream",
     "text": [
      "Epoch 10 - Validation Loss: 0.4246, Validation Accuracy: 0.9208\n",
      "🏁 Training completed successfully.\n"
     ]
    },
    {
     "name": "stderr",
     "output_type": "stream",
     "text": [
      "\n"
     ]
    }
   ],
   "source": [
    "\n",
    "# --- Training Function --- #\n",
    "def train_model(model, criterion, optimizer, train_loader, val_loader, num_epochs=NUM_EPOCHS):\n",
    "    best_accuracy = 0.0\n",
    "\n",
    "    for epoch in range(num_epochs):\n",
    "        model.train()  # Set the model to training mode\n",
    "        running_loss = 0.0\n",
    "        correct_train = 0\n",
    "        total_train = 0\n",
    "\n",
    "        # --- Training Step --- #\n",
    "        for inputs, labels in tqdm(train_loader, desc=f\"Epoch {epoch+1}/{num_epochs} [Train]\"):\n",
    "            inputs, labels = inputs.to(device), labels.to(device)\n",
    "\n",
    "            optimizer.zero_grad()  # Reset gradients\n",
    "\n",
    "            outputs = model(inputs)  # Forward pass\n",
    "            loss = criterion(outputs, labels)  # Calculate loss\n",
    "            loss.backward()  # Backpropagation\n",
    "            optimizer.step()  # Update model weights\n",
    "\n",
    "            running_loss += loss.item() * inputs.size(0)\n",
    "            _, predicted = torch.max(outputs.data, 1)  # Get the predicted class\n",
    "            total_train += labels.size(0)\n",
    "            correct_train += (predicted == labels).sum().item()\n",
    "\n",
    "        epoch_loss = running_loss / len(train_loader.dataset)\n",
    "        epoch_accuracy = correct_train / total_train\n",
    "        print(f\"Epoch {epoch+1} - Train Loss: {epoch_loss:.4f}, Train Accuracy: {epoch_accuracy:.4f}\")\n",
    "\n",
    "        # --- Validation Step --- #\n",
    "        model.eval()  # Set model to evaluation mode\n",
    "        val_loss = 0.0\n",
    "        correct_val = 0\n",
    "        total_val = 0\n",
    "\n",
    "        with torch.no_grad():  # Disable gradient calculation\n",
    "            for inputs, labels in tqdm(val_loader, desc=f\"Epoch {epoch+1}/{num_epochs} [Validation]\"):\n",
    "                inputs, labels = inputs.to(device), labels.to(device)\n",
    "\n",
    "                outputs = model(inputs)  # Forward pass\n",
    "                loss = criterion(outputs, labels)\n",
    "\n",
    "                val_loss += loss.item() * inputs.size(0)\n",
    "                _, predicted = torch.max(outputs.data, 1)\n",
    "                total_val += labels.size(0)\n",
    "                correct_val += (predicted == labels).sum().item()\n",
    "\n",
    "        val_epoch_loss = val_loss / len(val_loader.dataset)\n",
    "        val_epoch_accuracy = correct_val / total_val\n",
    "        print(f\"Epoch {epoch+1} - Validation Loss: {val_epoch_loss:.4f}, Validation Accuracy: {val_epoch_accuracy:.4f}\")\n",
    "\n",
    "        # --- Save the Best Model --- #\n",
    "        if val_epoch_accuracy > best_accuracy:\n",
    "            best_accuracy = val_epoch_accuracy\n",
    "            torch.save(model.state_dict(), 'best_cow_behavior_classifier.pth')\n",
    "            print(f\"✔️ Model saved: Best validation accuracy {best_accuracy:.4f}\")\n",
    "\n",
    "    print(\"🏁 Training completed successfully.\")\n",
    "    return model\n",
    "\n",
    "# --- Start Training --- #\n",
    "trained_model = train_model(model, criterion, optimizer, train_loader, val_loader)\n"
   ]
  },
  {
   "cell_type": "code",
   "execution_count": 11,
   "id": "c5d20d1e-3086-4e34-9c80-6e1cbec65acf",
   "metadata": {},
   "outputs": [
    {
     "name": "stderr",
     "output_type": "stream",
     "text": [
      "Evaluating on Test Set: 100%|██████████| 1002/1002 [00:25<00:00, 39.29it/s]\n"
     ]
    },
    {
     "name": "stdout",
     "output_type": "stream",
     "text": [
      "✔️ Test Set Accuracy: 0.9197\n",
      "\n",
      "📄 Classification Report:\n",
      "                   precision    recall  f1-score   support\n",
      "\n",
      "          Walking       0.46      0.16      0.23       618\n",
      "         Standing       0.93      0.96      0.94     10516\n",
      "  Feeding head up       0.80      0.68      0.73      2862\n",
      "Feeding head down       0.81      0.89      0.85      4689\n",
      "          Licking       0.90      0.90      0.90       301\n",
      "         Drinking       0.71      0.74      0.73       497\n",
      "            Lying       1.00      1.00      1.00     12571\n",
      "\n",
      "         accuracy                           0.92     32054\n",
      "        macro avg       0.80      0.76      0.77     32054\n",
      "     weighted avg       0.91      0.92      0.91     32054\n",
      "\n"
     ]
    },
    {
     "data": {
      "image/png": "[encoded data removed]",
      "text/plain": [
       "<Figure size 800x600 with 2 Axes>"
      ]
     },
     "metadata": {},
     "output_type": "display_data"
    }
   ],
   "source": [
    "# --- Final Evaluation Function --- #\n",
    "def evaluate_model(model, test_loader, class_names):\n",
    "    model.eval()  # Set model to evaluation mode\n",
    "    all_preds = []\n",
    "    all_labels = []\n",
    "\n",
    "    with torch.no_grad():  # No gradient computation during evaluation\n",
    "        for inputs, labels in tqdm(test_loader, desc=\"Evaluating on Test Set\"):\n",
    "            inputs, labels = inputs.to(device), labels.to(device)\n",
    "            outputs = model(inputs)\n",
    "            _, predicted = torch.max(outputs.data, 1)  # Get the predicted class\n",
    "            all_preds.extend(predicted.cpu().numpy())\n",
    "            all_labels.extend(labels.cpu().numpy())\n",
    "\n",
    "    # Calculate overall accuracy\n",
    "    accuracy = accuracy_score(all_labels, all_preds)\n",
    "    print(f\"✔️ Test Set Accuracy: {accuracy:.4f}\")\n",
    "\n",
    "    # Print detailed classification report\n",
    "    print(\"\\n📄 Classification Report:\")\n",
    "    print(classification_report(all_labels, all_preds, target_names=class_names))\n",
    "\n",
    "    # Plot Confusion Matrix\n",
    "    cm = confusion_matrix(all_labels, all_preds)\n",
    "    plt.figure(figsize=(8, 6))\n",
    "    sns.heatmap(cm, annot=True, fmt=\"d\", cmap=\"Blues\", xticklabels=class_names, yticklabels=class_names)\n",
    "    plt.title('Confusion Matrix of Cow Behaviors')\n",
    "    plt.xlabel('Predicted Behavior')\n",
    "    plt.ylabel('Actual Behavior')\n",
    "    plt.show()\n",
    "\n",
    "# --- Run Final Evaluation --- #\n",
    "evaluate_model(trained_model, test_loader, class_names_readable) \n"
   ]
  },
  {
   "cell_type": "code",
   "execution_count": null,
   "id": "efee1aac-51a3-44d9-b1ac-5008e6415dfd",
   "metadata": {},
   "outputs": [],
   "source": []
  }
 ],
 "metadata": {
  "kernelspec": {
   "display_name": "Python 3 (ipykernel)",
   "language": "python",
   "name": "python3"
  },
  "language_info": {
   "codemirror_mode": {
    "name": "ipython",
    "version": 3
   },
   "file_extension": ".py",
   "mimetype": "text/x-python",
   "name": "python",
   "nbconvert_exporter": "python",
   "pygments_lexer": "ipython3",
   "version": "3.10.18"
  }
 },
 "nbformat": 4,
 "nbformat_minor": 5
}
